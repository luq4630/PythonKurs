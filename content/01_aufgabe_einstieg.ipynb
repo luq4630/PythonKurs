{
 "cells": [
  {
   "cell_type": "markdown",
   "id": "973a93e6",
   "metadata": {},
   "source": [
    "# 🧪 Aufgabe: Verdoppeln-Funktion\n",
    "\n",
    "Schreibe eine Funktion `verdoppeln(x)`, die **die doppelte Zahl** zurückgibt.\n",
    "\n",
    "👉 Hinweise:\n",
    "- Achte auf *negative* Zahlen\n",
    "- Teste selbst mit ein paar Beispielen\n"
   ]
  },
  {
   "cell_type": "code",
   "execution_count": null,
   "id": "9aa501db",
   "metadata": {},
   "outputs": [],
   "source": [
    "# Deine Lösung hier\n",
    "def verdoppeln(x):\n",
    "    # TODO: Ersetze die folgende Zeile durch die korrekte Implementierung\n",
    "    return x  # falsch: das verdoppelt nicht!\n"
   ]
  },
  {
   "cell_type": "markdown",
   "id": "56c312b5",
   "metadata": {},
   "source": [
    "### ✅ Tests & Tipps\n",
    "Führe die folgende Zelle aus. Wenn ein Test fehlschlägt, bekommst du einen **Tipp**."
   ]
  },
  {
   "cell_type": "code",
   "execution_count": null,
   "id": "86f96123",
   "metadata": {},
   "outputs": [],
   "source": [
    "def _check():\n",
    "    # Einfache Tests mit hilfreichen Tipps\n",
    "    assert verdoppeln(2) == 4, \"Tipp: 2 * 2 = 4 – multipliziere mit 2.\"\n",
    "    assert verdoppeln(-3) == -6, \"Tipp: Auch negative Zahlen verdoppeln.\"\n",
    "    assert verdoppeln(0) == 0, \"Tipp: 0 bleibt 0.\"\n",
    "    return \"Alle Tests bestanden! 🎉\"\n",
    "\n",
    "_check()\n"
   ]
  },
  {
   "cell_type": "markdown",
   "id": "2032d3af",
   "metadata": {},
   "source": [
    "> 💡 **Extra**: Passe die Tests an oder füge neue hinzu, um mehr Fälle zu prüfen."
   ]
  }
 ],
 "metadata": {},
 "nbformat": 4,
 "nbformat_minor": 5
}
