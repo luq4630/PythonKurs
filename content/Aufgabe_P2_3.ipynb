{
 "cells": [
  {
   "cell_type": "markdown",
   "id": "199b60b4",
   "metadata": {},
   "source": [
    "# 🧮 Aufgabe P2.3: Folgen und Grenzwerte\n",
    "\n",
    "Gegeben ist die Folge\n",
    "\n",
    "$$a_n = \\left(1 + \\frac{1}{n}\\right)^n$$\n",
    "\n",
    "## 📌 Aufgabenstellung\n",
    "- Schreibe eine Funktion `folge(n)`, die den Wert $a_n$ berechnet.\n",
    "- Berechne die ersten z. B. 50 Folgenglieder.\n",
    "- Stelle die Folge mit **matplotlib** grafisch dar.\n",
    "- Entscheide, ob die Folge konvergiert.\n",
    "- Vergleiche den Grenzwert mit dem analytischen Wert $e \\approx 2.71828$."
   ]
  },
  {
   "cell_type": "code",
   "execution_count": null,
   "id": "eec39a64",
   "metadata": {},
   "outputs": [],
   "source": [
    "import math\n",
    "import matplotlib.pyplot as plt\n",
    "\n",
    "# Funktion für das n-te Folgenglied\n",
    "def folge(n):\n",
    "    # TODO: Implementiere die Formel (1 + 1/n)**n\n",
    "    return 1\n",
    "\n",
    "# Beispiel: erstes Folgenglied\n",
    "folge(1)\n"
   ]
  },
  {
   "cell_type": "markdown",
   "id": "7c82d4fe",
   "metadata": {},
   "source": [
    "## 📈 Darstellung\n",
    "Berechne mehrere Werte und zeichne die Folge."
   ]
  },
  {
   "cell_type": "code",
   "execution_count": null,
   "id": "0517e065",
   "metadata": {},
   "outputs": [],
   "source": [
    "N = 50\n",
    "werte = [folge(n) for n in range(1, N+1)]\n",
    "\n",
    "plt.plot(range(1, N+1), werte, marker='o')\n",
    "plt.xlabel(\"n\")\n",
    "plt.ylabel(\"a_n\")\n",
    "plt.title(\"Folge a_n = (1+1/n)^n\")\n",
    "plt.grid(True)\n",
    "plt.show()\n"
   ]
  },
  {
   "cell_type": "markdown",
   "id": "d937ef58",
   "metadata": {},
   "source": [
    "## ✅ Tests\n",
    "Prüfe, ob deine Funktion plausibel ist."
   ]
  },
  {
   "cell_type": "code",
   "execution_count": null,
   "id": "7632ee25",
   "metadata": {},
   "outputs": [],
   "source": [
    "def _check():\n",
    "    # Erste Werte\n",
    "    assert abs(folge(1) - 2) < 1e-9, \"Tipp: a_1 sollte 2 sein.\"\n",
    "    assert abs(folge(2) - 2.25) < 1e-9, \"Tipp: a_2 sollte 2.25 sein.\"\n",
    "    # Konvergenzrichtung\n",
    "    assert folge(10) > 2.5, \"a_10 sollte größer als 2.5 sein.\"\n",
    "    # Annäherung an e\n",
    "    assert abs(folge(1000) - math.e) < 0.01, \"Für n=1000 sollte der Wert nahe bei e liegen.\"\n",
    "    return \"🎉 Alle Tests bestanden! Die Folge konvergiert gegen e ≈ 2.71828.\"\n",
    "\n",
    "_check()\n"
   ]
  }
 ],
 "metadata": {},
 "nbformat": 4,
 "nbformat_minor": 5
}
